{
 "cells": [
  {
   "cell_type": "markdown",
   "metadata": {},
   "source": [
    "# Lesson 1 Exercise 2: Creating a Table with Apache Cassandra\n",
    "<img src=\"images/cassandralogo.png\" width=\"250\" height=\"250\">"
   ]
  },
  {
   "cell_type": "markdown",
   "metadata": {},
   "source": [
    "### Walk through the basics of Apache Cassandra. Complete the following tasks:<li> Create a table in Apache Cassandra, <li> Insert rows of data,<li> Run a simple SQL query to validate the information. <br>\n",
    "`#####` denotes where the code needs to be completed.\n",
    "    \n",
    "Note: __Do not__ click the blue Preview button in the lower taskbar"
   ]
  },
  {
   "cell_type": "markdown",
   "metadata": {},
   "source": [
    "#### Import Apache Cassandra python package"
   ]
  },
  {
   "cell_type": "code",
   "execution_count": 29,
   "metadata": {},
   "outputs": [
    {
     "ename": "ModuleNotFoundError",
     "evalue": "No module named 'cassandra'",
     "output_type": "error",
     "traceback": [
      "\u001b[0;31m---------------------------------------------------------------------------\u001b[0m",
      "\u001b[0;31mModuleNotFoundError\u001b[0m                       Traceback (most recent call last)",
      "\u001b[1;32m/Users/mohammadkaishmanihar/Downloads/GitHub Projects/Data-Engineering-Projects-master/0. Back to Basics/1. Intro to Data Modelling/Creating Table with Cassandra/Creating_a_Table_with_Apache_Cassandra.ipynb Cell 4'\u001b[0m in \u001b[0;36m<cell line: 1>\u001b[0;34m()\u001b[0m\n\u001b[0;32m----> <a href='vscode-notebook-cell:/Users/mohammadkaishmanihar/Downloads/GitHub%20Projects/Data-Engineering-Projects-master/0.%20Back%20to%20Basics/1.%20Intro%20to%20Data%20Modelling/Creating%20Table%20with%20Cassandra/Creating_a_Table_with_Apache_Cassandra.ipynb#ch0000003?line=0'>1</a>\u001b[0m \u001b[39mimport\u001b[39;00m \u001b[39mcassandra\u001b[39;00m\n",
      "\u001b[0;31mModuleNotFoundError\u001b[0m: No module named 'cassandra'"
     ]
    }
   ],
   "source": [
    "import cassandra"
   ]
  },
  {
   "cell_type": "code",
   "execution_count": null,
   "metadata": {},
   "outputs": [],
   "source": []
  },
  {
   "cell_type": "markdown",
   "metadata": {},
   "source": [
    "### Create a connection to the database"
   ]
  },
  {
   "cell_type": "code",
   "execution_count": 28,
   "metadata": {},
   "outputs": [
    {
     "ename": "ModuleNotFoundError",
     "evalue": "No module named 'cassandra'",
     "output_type": "error",
     "traceback": [
      "\u001b[0;31m---------------------------------------------------------------------------\u001b[0m",
      "\u001b[0;31mModuleNotFoundError\u001b[0m                       Traceback (most recent call last)",
      "\u001b[1;32m/Users/mohammadkaishmanihar/Downloads/GitHub Projects/Data-Engineering-Projects-master/0. Back to Basics/1. Intro to Data Modelling/Creating Table with Cassandra/Creating_a_Table_with_Apache_Cassandra.ipynb Cell 6'\u001b[0m in \u001b[0;36m<cell line: 1>\u001b[0;34m()\u001b[0m\n\u001b[0;32m----> <a href='vscode-notebook-cell:/Users/mohammadkaishmanihar/Downloads/GitHub%20Projects/Data-Engineering-Projects-master/0.%20Back%20to%20Basics/1.%20Intro%20to%20Data%20Modelling/Creating%20Table%20with%20Cassandra/Creating_a_Table_with_Apache_Cassandra.ipynb#ch0000005?line=0'>1</a>\u001b[0m \u001b[39mfrom\u001b[39;00m \u001b[39mcassandra\u001b[39;00m\u001b[39m.\u001b[39;00m\u001b[39mcluster\u001b[39;00m \u001b[39mimport\u001b[39;00m Cluster\n\u001b[1;32m      <a href='vscode-notebook-cell:/Users/mohammadkaishmanihar/Downloads/GitHub%20Projects/Data-Engineering-Projects-master/0.%20Back%20to%20Basics/1.%20Intro%20to%20Data%20Modelling/Creating%20Table%20with%20Cassandra/Creating_a_Table_with_Apache_Cassandra.ipynb#ch0000005?line=1'>2</a>\u001b[0m \u001b[39mtry\u001b[39;00m: \n\u001b[1;32m      <a href='vscode-notebook-cell:/Users/mohammadkaishmanihar/Downloads/GitHub%20Projects/Data-Engineering-Projects-master/0.%20Back%20to%20Basics/1.%20Intro%20to%20Data%20Modelling/Creating%20Table%20with%20Cassandra/Creating_a_Table_with_Apache_Cassandra.ipynb#ch0000005?line=2'>3</a>\u001b[0m     cluster \u001b[39m=\u001b[39m Cluster([\u001b[39m'\u001b[39m\u001b[39m127.0.0.1\u001b[39m\u001b[39m'\u001b[39m]) \u001b[39m#If you have a locally installed Apache Cassandra instance\u001b[39;00m\n",
      "\u001b[0;31mModuleNotFoundError\u001b[0m: No module named 'cassandra'"
     ]
    }
   ],
   "source": [
    "from cassandra.cluster import Cluster\n",
    "try: \n",
    "    cluster = Cluster(['127.0.0.1']) #If you have a locally installed Apache Cassandra instance\n",
    "    session = cluster.connect()\n",
    "except Exception as e:\n",
    "    print(e)\n",
    " "
   ]
  },
  {
   "cell_type": "markdown",
   "metadata": {},
   "source": [
    "### TO-DO: Create a keyspace to do the work in "
   ]
  },
  {
   "cell_type": "code",
   "execution_count": 12,
   "metadata": {},
   "outputs": [
    {
     "name": "stdout",
     "output_type": "stream",
     "text": [
      "name 'session' is not defined\n"
     ]
    }
   ],
   "source": [
    "## TO-DO: Create the keyspace\n",
    "try:\n",
    "    session.execute(\"\"\"\n",
    "    CREATE KEYSPACE IF NOT EXISTS udacity \n",
    "    WITH REPLICATION = \n",
    "    { 'class' : 'SimpleStrategy', 'replication_factor' : 1 }\"\"\"\n",
    ")\n",
    "\n",
    "except Exception as e:\n",
    "    print(e)"
   ]
  },
  {
   "cell_type": "markdown",
   "metadata": {},
   "source": [
    "### TO-DO: Connect to the Keyspace"
   ]
  },
  {
   "cell_type": "code",
   "execution_count": 11,
   "metadata": {},
   "outputs": [
    {
     "name": "stdout",
     "output_type": "stream",
     "text": [
      "name 'session' is not defined\n"
     ]
    }
   ],
   "source": [
    "## To-Do: Add in the keyspace you created\n",
    "try:\n",
    "    session.set_keyspace('udacity')\n",
    "except Exception as e:\n",
    "    print(e)"
   ]
  },
  {
   "cell_type": "markdown",
   "metadata": {},
   "source": [
    "### Create a Song Library that contains a list of songs, including the song name, artist name, year, album it was from, and if it was a single. \n",
    "\n",
    "`song_title\n",
    "artist_name\n",
    "year\n",
    "album_name\n",
    "single`"
   ]
  },
  {
   "cell_type": "markdown",
   "metadata": {},
   "source": [
    "### TO-DO: You need to create a table to be able to run the following query: \n",
    "`select * from songs WHERE year=1970 AND artist_name=\"The Beatles\"`"
   ]
  },
  {
   "cell_type": "code",
   "execution_count": 20,
   "metadata": {},
   "outputs": [],
   "source": [
    "## TO-DO: Complete the query below\n",
    "query = \"CREATE TABLE IF NOT EXISTS songs \"\n",
    "query = query + \"(year int, artist_name text, song_title text, album_name text, single boolean, PRIMARY KEY (year, artist_name))\"\n",
    "try:\n",
    "    session.execute(query)\n",
    "except Exception as e:\n",
    "    print(e)\n"
   ]
  },
  {
   "cell_type": "markdown",
   "metadata": {},
   "source": [
    "### TO-DO: Insert the following two rows in your table\n",
    "`First Row:  \"Across The Universe\", \"The Beatles\", \"1970\", \"False\", \"Let It Be\"`\n",
    "\n",
    "`Second Row: \"The Beatles\", \"Think For Yourself\", \"False\", \"1965\", \"Rubber Soul\"`"
   ]
  },
  {
   "cell_type": "code",
   "execution_count": 22,
   "metadata": {},
   "outputs": [],
   "source": [
    "## Add in query and then run the insert statement\n",
    "query = \"INSERT INTO songs (album_name, artist_name, year, single, song_title)\" \n",
    "query = query + \" VALUES (%s, %s, %s, %s, %s)\"\n",
    "\n",
    "try:\n",
    "    session.execute(query, (\"Across The Universe\", \"The Beatles\", 1970, False, \"Let It Be\"))\n",
    "except Exception as e:\n",
    "    print(e)\n",
    "    \n",
    "try:\n",
    "    session.execute(query, (\"The Beatles\", \"Think For Yourself\", 1965, False, \"Rubber Soul\"))\n",
    "except Exception as e:\n",
    "    print(e)"
   ]
  },
  {
   "cell_type": "markdown",
   "metadata": {},
   "source": [
    "### TO-DO: Validate your data was inserted into the table."
   ]
  },
  {
   "cell_type": "code",
   "execution_count": 23,
   "metadata": {
    "scrolled": true
   },
   "outputs": [
    {
     "name": "stdout",
     "output_type": "stream",
     "text": [
      "1965 The Beatles Think For Yourself\n",
      "1970 Across The Universe The Beatles\n"
     ]
    }
   ],
   "source": [
    "## TO-DO: Complete and then run the select statement to validate the data was inserted into the table\n",
    "query = 'SELECT * FROM songs'\n",
    "try:\n",
    "    rows = session.execute(query)\n",
    "except Exception as e:\n",
    "    print(e)\n",
    "    \n",
    "for row in rows:\n",
    "    print (row.year, row.album_name, row.artist_name)"
   ]
  },
  {
   "cell_type": "markdown",
   "metadata": {},
   "source": [
    "### TO-DO: Validate the Data Model with the original query.\n",
    "\n",
    "`select * from songs WHERE YEAR=1970 AND artist_name=\"The Beatles\"`"
   ]
  },
  {
   "cell_type": "code",
   "execution_count": 24,
   "metadata": {},
   "outputs": [
    {
     "name": "stdout",
     "output_type": "stream",
     "text": [
      "1970 Across The Universe The Beatles\n"
     ]
    }
   ],
   "source": [
    "##TO-DO: Complete the select statement to run the query \n",
    "query = \"select * from songs WHERE YEAR=1970 AND artist_name='The Beatles'\"\n",
    "try:\n",
    "    rows = session.execute(query)\n",
    "except Exception as e:\n",
    "    print(e)\n",
    "    \n",
    "for row in rows:\n",
    "    print (row.year, row.album_name, row.artist_name)"
   ]
  },
  {
   "cell_type": "markdown",
   "metadata": {},
   "source": [
    "### And Finally close the session and cluster connection"
   ]
  },
  {
   "cell_type": "code",
   "execution_count": 25,
   "metadata": {},
   "outputs": [],
   "source": [
    "session.shutdown()\n",
    "cluster.shutdown()"
   ]
  },
  {
   "cell_type": "code",
   "execution_count": null,
   "metadata": {},
   "outputs": [],
   "source": []
  }
 ],
 "metadata": {
  "kernelspec": {
   "display_name": "Python 3.10.5 64-bit",
   "language": "python",
   "name": "python3"
  },
  "language_info": {
   "codemirror_mode": {
    "name": "ipython",
    "version": 3
   },
   "file_extension": ".py",
   "mimetype": "text/x-python",
   "name": "python",
   "nbconvert_exporter": "python",
   "pygments_lexer": "ipython3",
   "version": "3.10.5"
  },
  "vscode": {
   "interpreter": {
    "hash": "aee8b7b246df8f9039afb4144a1f6fd8d2ca17a180786b69acc140d282b71a49"
   }
  }
 },
 "nbformat": 4,
 "nbformat_minor": 2
}
